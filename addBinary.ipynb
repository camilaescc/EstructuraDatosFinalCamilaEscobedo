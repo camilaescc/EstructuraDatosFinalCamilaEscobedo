{
  "nbformat": 4,
  "nbformat_minor": 0,
  "metadata": {
    "colab": {
      "provenance": []
    },
    "kernelspec": {
      "name": "python3",
      "display_name": "Python 3"
    },
    "language_info": {
      "name": "python"
    }
  },
  "cells": [
    {
      "cell_type": "markdown",
      "source": [
        "Add Binary"
      ],
      "metadata": {
        "id": "WlzIZoK_-Rbj"
      }
    },
    {
      "cell_type": "code",
      "execution_count": null,
      "metadata": {
        "id": "Zhi80k4K-KMm",
        "colab": {
          "base_uri": "https://localhost:8080/"
        },
        "outputId": "418a6258-d289-4cb3-9985-0abc1ffdc199"
      },
      "outputs": [
        {
          "output_type": "stream",
          "name": "stdout",
          "text": [
            "Ingresa el primer número binario: 11\n",
            "Ingresa el segundo número binario: 1\n",
            "Resultado de la suma binaria: 100\n"
          ]
        }
      ],
      "source": [
        "#solucion simple\n",
        "\n",
        "def addBinary(a, b):\n",
        "\n",
        "    num1 = int(a, 2)\n",
        "    num2 = int(b, 2)\n",
        "    total = num1 + num2\n",
        "\n",
        "    return bin(total)[2:]\n",
        "\n",
        "a = input(\"Ingresa el primer número binario: \")\n",
        "b = input(\"Ingresa el segundo número binario: \")\n",
        "\n",
        "print (\"Resultado de la suma binaria:\", addBinary(a, b))"
      ]
    },
    {
      "cell_type": "markdown",
      "source": [
        "Complejidad Big O: (n)\n",
        "\n",
        "Creamos la funcion addBinary, y le pasaremos los valores de a y b en binario. para el numero1 convierte el valor de a que le pasamos a decimal, y lo mismo para el numero2 que sera el valor b que le daremos. Suma los dos valores y luego los vuelve a convertir a binario con la funcion bin(total)[2:]. Esta funcion regresa el valor convertido a binario pero con un preffijo OB, entonces se lo estamos removiendo con el [2:].\n",
        "\n",
        "Le pedimos al usario que ingrese dis valores, y le regresamos la suma."
      ],
      "metadata": {
        "id": "H9O9GsbjJdEi"
      }
    },
    {
      "cell_type": "code",
      "source": [
        "#solucion optimizada\n",
        "\n",
        "def addBinary(a, b):\n",
        "    num1 = int(a, 2)\n",
        "    num2 = int(b, 2)\n",
        "    total = num1 + num2\n",
        "    return bin(total)[2:]\n",
        "\n",
        "a = input(\"Ingresa el primer número binario: \")\n",
        "b = input(\"Ingresa el segundo número binario: \")\n",
        "\n",
        "\n",
        "def validation(s):\n",
        "    return (1 <= len(s) <= 10**4 and set(s) <= {'0', '1'})\n",
        "\n",
        "if validation(a) and validation(b):\n",
        "    print(\"Resultado de la suma binaria:\", addBinary(a, b))\n",
        "else:\n",
        "    print(\"Error: Ingresa solo números binarios válidos (de 1 a 10⁴ dígitos, usando solo '0' y '1').\")\n"
      ],
      "metadata": {
        "id": "gwsOQdbr-VdG",
        "colab": {
          "base_uri": "https://localhost:8080/"
        },
        "outputId": "41de9f08-d957-46fb-8c43-231553fc8d8b"
      },
      "execution_count": null,
      "outputs": [
        {
          "output_type": "stream",
          "name": "stdout",
          "text": [
            "Ingresa el primer número binario: 11\n",
            "Ingresa el segundo número binario: 1\n",
            "Resultado de la suma binaria: 100\n"
          ]
        }
      ]
    },
    {
      "cell_type": "markdown",
      "source": [
        "Complejidad Big O: (n)  \n",
        "\n",
        "Tenemos la funcion addBinary que recibira dos parametros, a y b. Convertimos el valor a y b de binario a decimal con la funcion int(a, 2). Sumamos el total de los dos numeros y ahora lo convertimos nuevamente a binario con la funcion bin(total), y ahora usaremos [2:] para eliminar las dos primeras letras que nos regresa usando esta funcion (nos regresa ob y luego el numero, por eso le quitamos dos valores al incio para solo obtener el valor). Se devuelve el resultado en decimal.\n",
        "\n",
        "Creamos una funcion validation para comprobar que se cumplan las restricciones. La longitud de la cadena debe de ser minimo de 1 y maximo de 10,000 caracteres. Solo debe ingresarse el caracter 0 o el 1 usando set para definirlo. Si ambos a y b pasan la funcion de validacion imprime el resultado de la suma, si no regresa un error."
      ],
      "metadata": {
        "id": "bkI0n5JxD8w1"
      }
    }
  ]
}