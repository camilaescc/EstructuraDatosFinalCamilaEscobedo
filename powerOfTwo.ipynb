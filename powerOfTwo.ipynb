{
  "nbformat": 4,
  "nbformat_minor": 0,
  "metadata": {
    "colab": {
      "provenance": []
    },
    "kernelspec": {
      "name": "python3",
      "display_name": "Python 3"
    },
    "language_info": {
      "name": "python"
    }
  },
  "cells": [
    {
      "cell_type": "markdown",
      "source": [
        "Power Of Two"
      ],
      "metadata": {
        "id": "Kx_c3_4qIMT5"
      }
    },
    {
      "cell_type": "code",
      "execution_count": 10,
      "metadata": {
        "colab": {
          "base_uri": "https://localhost:8080/"
        },
        "id": "4nmyLZkEIJ61",
        "outputId": "2fccded3-4d45-437a-c227-430e4fc8ee4b"
      },
      "outputs": [
        {
          "output_type": "stream",
          "name": "stdout",
          "text": [
            "Ingresa un número entero: 16\n",
            "16 True\n"
          ]
        }
      ],
      "source": [
        "#solucion simple\n",
        "\n",
        "import math\n",
        "\n",
        "def PowerOfTwo(n):\n",
        "    if n <= 0:\n",
        "        return False\n",
        "\n",
        "    result = math.log2(n)\n",
        "    return result.is_integer()\n",
        "\n",
        "num = int(input(\"Ingresa un número entero: \"))\n",
        "if PowerOfTwo(num):\n",
        "    print(f\"{num} True\")\n",
        "else:\n",
        "    print(f\"{num} False\")\n"
      ]
    },
    {
      "cell_type": "markdown",
      "source": [
        "Complejidad Big O: O(1) La operacion matematica es directa y constante\n",
        "\n",
        "En este codigo importamos la funcion math de python para usar operaciones matematicas, primero empezamos definiendo una funcion PowerOfTwo que recibe un parametro n. Verificamos que n no sea menor o igual a cero, ya que automaticamente no seria potencia de dos, y si esto es verdad se devuelve un False. Creamos un objeto result donde calculamos el logaritmo base 2 de nuestro numero n, esto nos dira a que potencia podemos elevar el 2 para obtener n, ya que esta potencia solo sera valida si es entera, si no es entera entonces n no es potencia de dos. Con la funcion .is_integer si el resultado es entero devuelve un True y si es un numero float devuelve un False."
      ],
      "metadata": {
        "id": "rB60YbMJJIe-"
      }
    },
    {
      "cell_type": "code",
      "source": [
        "#solucion optimizada\n",
        "\n",
        "def isPowerOfTwo(n):\n",
        "    return n > 0 and bin(n).count('1') == 1\n",
        "\n",
        "num = int(input(\"Ingresa un número entero: \"))\n",
        "\n",
        "if isPowerOfTwo(num):\n",
        "    print(f\"{num} True\")\n",
        "else:\n",
        "    print(f\"{num} False\")\n"
      ],
      "metadata": {
        "colab": {
          "base_uri": "https://localhost:8080/"
        },
        "id": "2qauPoKiKw3u",
        "outputId": "6dd06b9b-df13-40ad-e838-41912bd62960"
      },
      "execution_count": 13,
      "outputs": [
        {
          "output_type": "stream",
          "name": "stdout",
          "text": [
            "Ingresa un número entero: 15865\n",
            "15865 False\n"
          ]
        }
      ]
    },
    {
      "cell_type": "markdown",
      "source": [
        "Complejidad Big O: O(log n) Depende del numero de bits para n\n",
        "\n",
        "Este codigo usa un contador binario para calcular potencias de dos. Primero verifica que n sea mayor a cero por que si no automaticamente no es potencia de dos. Luego usamos la funcion bin que convierte el numero n que le pasamos a una cadena de texto en su representacion binaria, ya que en una potencia de dos tiene exactamente un bit en 1. Si al contar cuantos 1 hay en la cadena binaria existe mas de uno, se devolvera False, pero si solo se cuenta uno en total se devolvera True."
      ],
      "metadata": {
        "id": "gTnl-1l6MOhc"
      }
    }
  ]
}