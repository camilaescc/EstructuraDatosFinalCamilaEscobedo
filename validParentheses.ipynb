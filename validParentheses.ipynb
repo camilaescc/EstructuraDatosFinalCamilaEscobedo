{
  "nbformat": 4,
  "nbformat_minor": 0,
  "metadata": {
    "colab": {
      "provenance": []
    },
    "kernelspec": {
      "name": "python3",
      "display_name": "Python 3"
    },
    "language_info": {
      "name": "python"
    }
  },
  "cells": [
    {
      "cell_type": "markdown",
      "source": [
        "validParenthesis"
      ],
      "metadata": {
        "id": "hsTri0rlvbEX"
      }
    },
    {
      "cell_type": "code",
      "execution_count": 1,
      "metadata": {
        "colab": {
          "base_uri": "https://localhost:8080/"
        },
        "id": "cbxAjBrBs2dN",
        "outputId": "412a0ad7-54e6-44c5-ec82-23f757a6c07c"
      },
      "outputs": [
        {
          "output_type": "stream",
          "name": "stdout",
          "text": [
            "Ingresa una combinación de paréntesis: ()(){}{}[]\n",
            "True\n"
          ]
        }
      ],
      "source": [
        "#solucion simple\n",
        "\n",
        "def isValid(s):\n",
        "    stack = []\n",
        "    pairs = {')': '(', '}': '{', ']': '['}\n",
        "    for c in s:\n",
        "        if c in pairs.values():\n",
        "            stack.append(c)\n",
        "        elif c in pairs:\n",
        "            if not stack or stack.pop() != pairs[c]:\n",
        "                return False\n",
        "    return not stack\n",
        "\n",
        "user_input = input(\"Ingresa una combinación de paréntesis: \")\n",
        "if isValid(user_input):\n",
        "    print(\"True\")\n",
        "else:\n",
        "    print(\"False\")\n"
      ]
    },
    {
      "cell_type": "markdown",
      "source": [
        "Complejidad Big O: O(n) n es el tamano del string que ingresemos\n",
        "\n",
        "Usamos una lista como pila (stack), donde guardaremos los paréntesis de apertura y pairs lo usaremos como un diccionario que nos dice qué tipo de apertura corresponde a cada cierre. Usamos un ciclo for donde vemos si el carácter c es un paréntesis de apertura, y de ser así lo agregamos a la pila stack. Si c es un paréntesis de cierre, etonces revisamos si stack está vacío (not stack): si es así, hay un error, porque no hay nada que cerrar.\n",
        "\n",
        "Si no está vacía, usamos .pop() para sacar el último paréntesis abierto de la pila y lo comparamos con el tipo que se espera según el diccionario pairs. Si no coinciden entonces es inválido y le decimos que nos regrese un falso:return False.\n",
        "\n",
        "Si stack quedo vacio, significa que se cerraron todos los parentesis, pero si todavia quedo algo, entonces no se cerraron todos los parentesis, que tambien seria invalido.\n",
        "\n"
      ],
      "metadata": {
        "id": "4JgQF2nlvybY"
      }
    },
    {
      "cell_type": "code",
      "source": [
        "#solucion optimizada\n",
        "\n",
        "def isValid(s):\n",
        "    stack = []\n",
        "    pairs = {')': '(', '}': '{', ']': '['}\n",
        "    for c in s:\n",
        "        if c in pairs.values():\n",
        "            stack.append(c)\n",
        "        elif c in pairs:\n",
        "            if not stack or stack.pop() != pairs[c]:\n",
        "                return False\n",
        "    return not stack\n",
        "\n",
        "user_input = input(\"Ingresa una combinación de paréntesis: \")\n",
        "\n",
        "#restricción de longitud entre 1 y 10,000\n",
        "if not (1 <= len(user_input) <= 10000):\n",
        "    print(\"Error: La cadena debe tener entre 1 y 10,000 caracteres.\")\n",
        "\n",
        "#restricción de solo caracteres válidos\n",
        "elif not all(c in '()[]{}' for c in user_input):\n",
        "    print(\"Error: Solo se permiten los caracteres '( )', '[ ]', '{ }' \")\n",
        "\n",
        "else:\n",
        "    if isValid(user_input):\n",
        "        print(\"True\")\n",
        "    else:\n",
        "        print(\"False\")\n"
      ],
      "metadata": {
        "colab": {
          "base_uri": "https://localhost:8080/"
        },
        "id": "ylhmtIJpyTIN",
        "outputId": "a6b087ad-d147-4553-a5f0-9df4c419279a"
      },
      "execution_count": null,
      "outputs": [
        {
          "output_type": "stream",
          "name": "stdout",
          "text": [
            "Ingresa una combinación de paréntesis: (a)\n",
            "Error: Solo se permiten los caracteres '( )', '[ ]', '{ }' \n"
          ]
        }
      ]
    },
    {
      "cell_type": "markdown",
      "source": [
        "Complejidad Big O: O(n) n es el tamano del string que ingresemos\n",
        "\n",
        "En este codigo le agregamos dos restricciones al codigo simple, si la longitud de la cadena que ingrese el usuario no está entre 1 y 10,000 caracteres imprime un error. Para la segunda restriccion, usamos all() para verificar que todos los caracteres que el usuario escribió sean solo de este conjunto: ()[]{}.\n",
        "Si el usuario ingresa otro caracter, imprime error."
      ],
      "metadata": {
        "id": "9LPGN0z-zxH3"
      }
    }
  ]
}