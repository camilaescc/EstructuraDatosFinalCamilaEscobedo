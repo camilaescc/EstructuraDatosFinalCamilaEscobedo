{
  "nbformat": 4,
  "nbformat_minor": 0,
  "metadata": {
    "colab": {
      "provenance": []
    },
    "kernelspec": {
      "name": "python3",
      "display_name": "Python 3"
    },
    "language_info": {
      "name": "python"
    }
  },
  "cells": [
    {
      "cell_type": "markdown",
      "source": [
        "Loops"
      ],
      "metadata": {
        "id": "fpBwhQuyM-ag"
      }
    },
    {
      "cell_type": "code",
      "execution_count": 1,
      "metadata": {
        "colab": {
          "base_uri": "https://localhost:8080/"
        },
        "id": "RN8IPb1VLkNp",
        "outputId": "77ec7ee0-a323-4cc1-b140-4d5557ba1d5c"
      },
      "outputs": [
        {
          "output_type": "stream",
          "name": "stdout",
          "text": [
            "Ingresa un número entero y positivo: 5\n",
            "0\n",
            "1\n",
            "4\n",
            "9\n",
            "16\n"
          ]
        }
      ],
      "source": [
        "#solucion simple\n",
        "\n",
        "n = int(input(\"Ingresa un número entero y positivo: \"))\n",
        "\n",
        "for i in range(n):\n",
        "    print(i ** 2)\n"
      ]
    },
    {
      "cell_type": "markdown",
      "source": [
        "Complejidad Big O: O(n) dependiendo de que tan grande es n\n",
        "\n",
        "\n",
        "Este es un ciclo for que va a imprimir el numero al cuadrado cuantas veces lo indique el usuario. Empieza en 0 y acaba en 4 ya que del 0-4 hay 5 indices que fue la cantidad que ingresamos."
      ],
      "metadata": {
        "id": "dN0uzxOPNNHw"
      }
    },
    {
      "cell_type": "code",
      "source": [
        "#solucion optimizada\n",
        "\n",
        "n = int(input(\"Ingresa un número entero entre 1 y 20: \"))\n",
        "\n",
        "if 1 <= n <= 20:\n",
        "    for i in range(n):\n",
        "        print(i ** 2)\n",
        "else:\n",
        "    print(\"Error: El número debe estar entre 1 y 20.\")\n"
      ],
      "metadata": {
        "colab": {
          "base_uri": "https://localhost:8080/"
        },
        "id": "yPyq2yrYN_0c",
        "outputId": "b06e5c1d-2967-456d-80d9-08959d118db0"
      },
      "execution_count": 3,
      "outputs": [
        {
          "output_type": "stream",
          "name": "stdout",
          "text": [
            "Ingresa un número entero entre 1 y 20: 0\n",
            "Error: El número debe estar entre 1 y 20.\n"
          ]
        }
      ]
    },
    {
      "cell_type": "markdown",
      "source": [
        "Complejidad Big O: O(n) dependiendo de que tan grande es n\n",
        "\n",
        "En este caso le vamos a poner una restriccion para que el usuario no ingrese mas de 20 como numero, y de minimo que sea 1. Si el usuario intenta ingresar un numero negativo o muy grande se imprime un error."
      ],
      "metadata": {
        "id": "LmlaSia1OG3b"
      }
    }
  ]
}