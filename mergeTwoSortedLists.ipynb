{
  "nbformat": 4,
  "nbformat_minor": 0,
  "metadata": {
    "colab": {
      "provenance": []
    },
    "kernelspec": {
      "name": "python3",
      "display_name": "Python 3"
    },
    "language_info": {
      "name": "python"
    }
  },
  "cells": [
    {
      "cell_type": "markdown",
      "source": [
        "Merge Two Sorted Lists"
      ],
      "metadata": {
        "id": "_J8lkjlA14rc"
      }
    },
    {
      "cell_type": "code",
      "execution_count": null,
      "metadata": {
        "colab": {
          "base_uri": "https://localhost:8080/"
        },
        "id": "ZhNW0XuW1ywJ",
        "outputId": "2d76927a-d819-4520-cd9a-7c029de59db0"
      },
      "outputs": [
        {
          "output_type": "stream",
          "name": "stdout",
          "text": [
            "[1, 2, 4, 5, 6, 7]\n"
          ]
        }
      ],
      "source": [
        "#solucion simple\n",
        "\n",
        "def merge_sorted_lists(list1, list2):\n",
        "    return sorted(list1 + list2)\n",
        "list1 = [1, 2, 4]\n",
        "list2 = [1, 3, 4]\n",
        "\n",
        "merged = merge_sorted_lists(list1, list2)\n",
        "print(merged)\n"
      ]
    },
    {
      "cell_type": "markdown",
      "source": [
        "Complejidad Big O: O(log n), ya que estamos ordenando una lista, el peor caso seria una lista n desordenada.\n",
        "\n",
        "Creamos la funcion merge_sorted_lists que va a recibir dos listas: list1 y list2, las dos se las vamos a pasar ya ordenadas. Despues usamos un + mas unir las dos listas, luego usamos la funcion sorted que nos ordena elementos de menor a mayor. Devolvemos la funcion sorted que seria las listas sumadas y ordenadas como resultado final, y mandamos a imprimir la funcion. Esto solo funciona por que las dos listas estaban ya previamente ordenadas cuando se las pasamos a la funcion, pero no funcionaria si no es asi o si la lista dos empieza la lista con valores mayores a la lista uno."
      ],
      "metadata": {
        "id": "dKCe0EOR2qxi"
      }
    },
    {
      "cell_type": "code",
      "source": [
        "#solucion optimizada\n",
        "\n",
        "def merge_sorted_lists(list1, list2):\n",
        "\n",
        "    # Restricción de longitud entre 0 y 50\n",
        "    if not (0 <= len(list1) <= 50) or not (0 <= len(list2) <= 50):\n",
        "        print(\"Error: Las listas deben tener entre 0 y 50 elementos.\")\n",
        "        return []\n",
        "\n",
        "    # Restricción de valores entre -100 y 100\n",
        "    if not all(-100 <= x <= 100 for x in list1 + list2):\n",
        "        print(\"Error: Todos los valores deben estar entre -100 y 100.\")\n",
        "        return []\n",
        "\n",
        "    # Restricción de listas ordenadas en forma no decreciente\n",
        "    if list1 != sorted(list1) or list2 != sorted(list2):\n",
        "        print(\"Error: Ambas listas deben estar ordenadas de forma no decreciente.\")\n",
        "        return []\n",
        "\n",
        "    return sorted(list1 + list2)\n",
        "\n",
        "list1 = [1, 2, 4]\n",
        "list2 = [1, 3, 4]\n",
        "\n",
        "resultado = merge_sorted_lists(list1, list2)\n",
        "print(\"Lista fusionada:\", resultado)\n",
        "\n",
        "\n"
      ],
      "metadata": {
        "colab": {
          "base_uri": "https://localhost:8080/"
        },
        "id": "JOBtZL9b4GpX",
        "outputId": "4128a7f7-94ba-4211-e405-d619660678c0"
      },
      "execution_count": null,
      "outputs": [
        {
          "output_type": "stream",
          "name": "stdout",
          "text": [
            "Lista fusionada: [1, 1, 2, 3, 4, 4]\n"
          ]
        }
      ]
    },
    {
      "cell_type": "markdown",
      "source": [
        "Complejidad Big O: O(log n), ya que estamos ordenando una lista, el peor caso seria una lista n desordenada.\n",
        "\n",
        "Le agregaremos tres restricciones a nuestro codigo simple, la priemra donde comprobamos que la lista sea de entre 0 a 50 elementos, sino imprime un error. La segunda restriccion comprueba qur todos los numeros de la lista tengan valores entre -100 hasta el maximo que seria 100, se suman las listas para revisar los valores todos juntos y, si se pasan de estos valores, imprime un error. La tercera restriccion va a revisar que ambas listas esten ordenadas, sino estan no funcionara entonces imprime un error."
      ],
      "metadata": {
        "id": "zkRjCsyC6pM5"
      }
    }
  ]
}