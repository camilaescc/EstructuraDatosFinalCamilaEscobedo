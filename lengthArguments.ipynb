{
  "nbformat": 4,
  "nbformat_minor": 0,
  "metadata": {
    "colab": {
      "provenance": []
    },
    "kernelspec": {
      "name": "python3",
      "display_name": "Python 3"
    },
    "language_info": {
      "name": "python"
    }
  },
  "cells": [
    {
      "cell_type": "markdown",
      "source": [
        "Return Length Of Arguments Passed"
      ],
      "metadata": {
        "id": "YVBCor9bQ7Im"
      }
    },
    {
      "cell_type": "code",
      "execution_count": 2,
      "metadata": {
        "colab": {
          "base_uri": "https://localhost:8080/"
        },
        "id": "jVDjWzR0Q3uV",
        "outputId": "7062d6e9-99eb-4775-ed17-1472277a9f4b"
      },
      "outputs": [
        {
          "output_type": "stream",
          "name": "stdout",
          "text": [
            "Ingresa varios valores separados por espacios: hello world this is Camila\n",
            "Cantidad de argumentos ingresados: 5\n"
          ]
        }
      ],
      "source": [
        "#solucion simple\n",
        "def argumentsLength(*args):\n",
        "    return len(args)\n",
        "\n",
        "entrada = input(\"Ingresa varios valores separados por espacios: \")\n",
        "\n",
        "arguments = entrada.split()\n",
        "total = argumentsLength(*arguments)\n",
        "\n",
        "print(f\"Cantidad de argumentos ingresados: {total}\")\n"
      ]
    },
    {
      "cell_type": "markdown",
      "source": [
        "Complejidad Big O: O(n) n es la cantidad de argumentos que ingresemos\n",
        "\n",
        "Creamos la funcion argumentsLength que recibe un parametro *args, esto en python le permite a la funcion que reciba un numero de parametros sin limite, y usando la funcion len de python podemos ver cuantos parametros recibimos. Le pedimos al usuario que nos de un texto con espacios entre palabras y creamos el objeto arguments que usara los espacios para dividir las palabras que se introduzcan. El total de palabras se calcula llamando a la funcion y pasandole nuestra cadena de texto para que se cuenten las palabras.\n"
      ],
      "metadata": {
        "id": "w8aKxo7RSl3g"
      }
    },
    {
      "cell_type": "code",
      "source": [
        "#solucion optimizada\n",
        "def argumentsLength(*args):\n",
        "    return len(args)\n",
        "\n",
        "entrada = input(\"Ingresa varios valores separados por espacios (máx. 100): \")\n",
        "arguments = entrada.split()\n",
        "\n",
        "if len(arguments) > 100:\n",
        "    print(\"Error: Has ingresado más de 100 argumentos.\")\n",
        "else:\n",
        "    total = argumentsLength(*arguments)\n",
        "    print(f\"Cantidad de argumentos ingresados: {total}\")\n"
      ],
      "metadata": {
        "colab": {
          "base_uri": "https://localhost:8080/"
        },
        "id": "x0dHKKokUouq",
        "outputId": "11e5211d-7965-46c5-cc38-a86f4fb84c53"
      },
      "execution_count": 3,
      "outputs": [
        {
          "output_type": "stream",
          "name": "stdout",
          "text": [
            "Ingresa varios valores separados por espacios (máx. 100): Camiii Cami Holiiii\n",
            "Cantidad de argumentos ingresados: 3\n"
          ]
        }
      ]
    },
    {
      "cell_type": "markdown",
      "source": [
        "Complejidad Big O: O(n) n es la cantidad de argumentos que ingresemos\n",
        "\n",
        "Este codigo se optimiza para que el usuario no pueda introducir mas de 100 palabras, por lo tanto usamos un if para verificar que al contar los argumentos con la funcion len no se pasen de 100, si se han pasado se imprime un error. Else calcularia el total de los argumentos e imprimiria el resultado"
      ],
      "metadata": {
        "id": "uyKZghAJVD_X"
      }
    }
  ]
}