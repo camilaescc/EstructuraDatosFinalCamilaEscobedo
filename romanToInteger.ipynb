{
  "nbformat": 4,
  "nbformat_minor": 0,
  "metadata": {
    "colab": {
      "provenance": []
    },
    "kernelspec": {
      "name": "python3",
      "display_name": "Python 3"
    },
    "language_info": {
      "name": "python"
    }
  },
  "cells": [
    {
      "cell_type": "markdown",
      "source": [
        "Roman To Integer"
      ],
      "metadata": {
        "id": "1R3dp4_01fK5"
      }
    },
    {
      "cell_type": "code",
      "execution_count": null,
      "metadata": {
        "colab": {
          "base_uri": "https://localhost:8080/"
        },
        "id": "Zu_0ADSwwlfd",
        "outputId": "fd32dbc1-123b-4b9b-e85b-5b7b1f274a72"
      },
      "outputs": [
        {
          "output_type": "stream",
          "name": "stdout",
          "text": [
            "Ingresa un número romano: IV\n",
            "Valor en decimal: 4\n"
          ]
        }
      ],
      "source": [
        "#solucion simple\n",
        "\n",
        "def romanToInteger(s):\n",
        "\n",
        "    values = {'I': 1, 'V': 5, 'X': 10, 'L': 50,'C': 100, 'D': 500, 'M': 1000}\n",
        "    exceptions = {'IV': 4, 'IX': 9,'XL': 40, 'XC': 90,'CD': 400, 'CM': 900}\n",
        "\n",
        "    total = 0\n",
        "    i = 0\n",
        "\n",
        "    while i < len(s):\n",
        "        if i + 1 < len(s) and s[i:i+2] in exceptions:\n",
        "            total += exceptions[s[i:i+2]]\n",
        "            i += 2\n",
        "        else:\n",
        "            total += values[s[i]]\n",
        "            i += 1\n",
        "\n",
        "    return total\n",
        "\n",
        "entrada = input(\"Ingresa un número romano: \").upper()\n",
        "print(\"Valor en decimal:\", romanToInteger(entrada))"
      ]
    },
    {
      "cell_type": "markdown",
      "source": [
        "Complejidad Big O: O(n)\n",
        "n es el tamano del string que ingresemos\n",
        "\n",
        "La funcion romanToInteger recibe valores de tipo string \"s\". Declaramos en un array values los valores de cada letra en su valor romano, y declaramos otro array exceptions con las excepciones de cada letra en su valor romano. La variable total va a guardar la suma del numero en decimal de la letra que leamos, y la variable i va a usarse para recorrer las letras que ingresemos. Mientras que no lleguemos al final del string, seguimos revisando las letras. La funcion s[i:i+2] toma dos letras seguidas, y si estas letras estan en nuestras excepciones, entonces se guarda esa suma en nuestra variable total. Si no hay una excepcion en las letras solo busca su valor normal y lo guarda en la variable total. Despues de analizar todo el string usamos return total para ver la suma total de todas nuestras letras.\n",
        "\n"
      ],
      "metadata": {
        "id": "K8zfWhtqzqwL"
      }
    },
    {
      "cell_type": "code",
      "source": [
        "#solucion optimizada\n",
        "def romanToInteger(s):\n",
        "\n",
        "    array = {'I': 1, 'V': 5, 'X': 10, 'L': 50,'C': 100, 'D': 500, 'M': 1000}\n",
        "    total = 0\n",
        "    prev_value = 0\n",
        "\n",
        "    for i in reversed(s):\n",
        "        value = array[i]\n",
        "        if value < prev_value:\n",
        "            total -= value\n",
        "        else:\n",
        "            total += value\n",
        "            prev_value = value\n",
        "    return total\n",
        "\n",
        "valid_chars = set('IVXLCDM')\n",
        "roman = input(\"Ingresa un número romano válido (entre I y MMMCMXCIX): \").upper()\n",
        "\n",
        "\n",
        "if 1 <= len(roman) <= 15 and all(i in valid_chars for i in roman):\n",
        "    result = romanToInteger(roman)\n",
        "    print(f\"El número romano {roman} equivale al numero decimal : {result}\")\n",
        "else:\n",
        "    print(\"Error. El maximo de caracteres a ingresar son 15 letras. Ingresa caracteres validos\")\n"
      ],
      "metadata": {
        "colab": {
          "base_uri": "https://localhost:8080/"
        },
        "id": "KHkhYkrQ1kFW",
        "outputId": "a7d69ef6-d401-467c-8864-2c9fcfef78f4"
      },
      "execution_count": null,
      "outputs": [
        {
          "output_type": "stream",
          "name": "stdout",
          "text": [
            "Ingresa un número romano válido (entre I y MMMCMXCIX): IV\n",
            "El número romano IV equivale al numero decimal : 4\n"
          ]
        }
      ]
    },
    {
      "cell_type": "markdown",
      "source": [
        "Complejidad Big O: O(n) n es el tamano del string que ingresemos\n",
        "\n",
        "La funcion romanToInteger recibe valores de tipo string \"s\". Declaramos en un array los valores de cada letra en su valor romano. Declaramos una variable total en cero que ira guardando los valores en decimal de las letras que vaya leyendo, la variable prev_value guardara el valor de la letra anterior para ir comparando. Usaremos un ciclo for para recorrer el array al reves con la funcion reversed(s). Lo hacemos asi por que las reglas de resta aplican cuando una letra menor viene antes que una mayor, entonces al leerlo al reves podemos saber si vamos a sumar o a restar segun el valor anterior. Si el valor actual es menor al anterior, restamos. Si es igual o mayor solo lo acumulamos en la variable total. Actualizamos el valor anterior al actual una vez terminado para seguir comparando. Se regresa la suma total acumulada en la variable total.\n",
        "\n",
        "Definimos los caracteres validos que puede ingresar el usario, y le pedimos que ingrese un numero en romano. Si el valor que ingreso tiene de 1 a 15 caracteres, y todos los caracteres son validos, entonces imprime el resultado. Si no regresa un error.\n",
        "\n",
        "Al leer el arreglo de derecha a izquierda solo necesitamos comparar el valor anterior con el actual para saber si sumas o restas. Es mas sencillo y evita mas pasos."
      ],
      "metadata": {
        "id": "KVabZbRJ4znO"
      }
    }
  ]
}