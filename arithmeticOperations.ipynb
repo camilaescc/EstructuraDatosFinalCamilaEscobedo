{
  "nbformat": 4,
  "nbformat_minor": 0,
  "metadata": {
    "colab": {
      "provenance": []
    },
    "kernelspec": {
      "name": "python3",
      "display_name": "Python 3"
    },
    "language_info": {
      "name": "python"
    }
  },
  "cells": [
    {
      "cell_type": "markdown",
      "source": [
        "Arithmetic Operations"
      ],
      "metadata": {
        "id": "taMfEgzbG7fu"
      }
    },
    {
      "cell_type": "code",
      "execution_count": 4,
      "metadata": {
        "id": "xZJ-LxhdG3Um",
        "colab": {
          "base_uri": "https://localhost:8080/"
        },
        "outputId": "3a181595-6f8d-4e06-a835-6be859e68d7e"
      },
      "outputs": [
        {
          "output_type": "stream",
          "name": "stdout",
          "text": [
            "Ingresa el primer número entero: 68\n",
            "Ingresa el segundo número entero: 57\n",
            "La suma de los dos numeros es: 125\n",
            "La resta de los dos numeros es: 11\n",
            "La multiplicacion de los dos numeros es: 3876\n"
          ]
        }
      ],
      "source": [
        "#solucion simple\n",
        "\n",
        "def main():\n",
        "    a = int(input(\"Ingresa el primer número entero: \"))\n",
        "    b = int(input(\"Ingresa el segundo número entero: \"))\n",
        "\n",
        "    print(f\"La suma de los dos numeros es: {a + b}\")\n",
        "    print(f\"La resta de los dos numeros es: {a - b}\")\n",
        "    print(f\"La multiplicacion de los dos numeros es: {a * b}\")\n",
        "\n",
        "main()\n"
      ]
    },
    {
      "cell_type": "markdown",
      "source": [
        "Complejidad Big O: O(1) ya que las operaciones se realizan en tiempo constante\n",
        "\n",
        "Este codigo hace la suma, la resta y la multiplicacion de dos numeros, primero le pedimos al usuario que ingrese dos valores y en la misma linea para imprimir hacemos la operacion."
      ],
      "metadata": {
        "id": "NDMDsOgVH_hY"
      }
    },
    {
      "cell_type": "code",
      "source": [
        "#solucion optimizada\n",
        "import math\n",
        "\n",
        "def main():\n",
        "    a = float(input(\"Ingresa el primer número: \"))\n",
        "    b = float(input(\"Ingresa el segundo número: \"))\n",
        "\n",
        "    print(f\"La multiplicación de los dos números es: {a * b}\")\n",
        "\n",
        "    if b != 0:\n",
        "        print(f\"La división entre {a}/{b} es: {a / b}\")\n",
        "    else:\n",
        "        print(\"No se puede dividir entre cero.\")\n",
        "\n",
        "    if a >= 0:\n",
        "        print(f\"La raíz cuadrada de {a} es: {math.sqrt(a)}\")\n",
        "    else:\n",
        "        print(\"Error: No se puede calcular la raíz cuadrada de un número negativo.\")\n",
        "\n",
        "    if b >= 0:\n",
        "        print(f\"La raíz cuadrada de {b} es: {math.sqrt(b)}\")\n",
        "    else:\n",
        "        print(\"Error: No se puede calcular la raíz cuadrada de un número negativo.\")\n",
        "\n",
        "main()\n"
      ],
      "metadata": {
        "colab": {
          "base_uri": "https://localhost:8080/"
        },
        "id": "OiQgsLvlInuU",
        "outputId": "367ee2f3-300e-4f53-9a8e-0d992c2de72e"
      },
      "execution_count": 12,
      "outputs": [
        {
          "output_type": "stream",
          "name": "stdout",
          "text": [
            "Ingresa el primer número: 1\n",
            "Ingresa el segundo número: 0\n",
            "La multiplicación de los dos números es: 0.0\n",
            "No se puede dividir entre cero.\n",
            "La raíz cuadrada de 1.0 es: 1.0\n",
            "La raíz cuadrada de 0.0 es: 0.0\n"
          ]
        }
      ]
    },
    {
      "cell_type": "markdown",
      "source": [
        "Complejidad Big O: O(1) ya que las operaciones se realizan en tiempo constante\n",
        "\n",
        "Aqui use la misma logica que en el codigo simple pero le cambie las operaciones a realizar del programa para que fuera un poco mas complejo. Primero se saca la multiplicacion de a y b. Despues se divide a entre b, pero si b es igual a 0, no se cumple. Luego se sacan las raices cuadradas de ambos numeros, si estos llegan a ser 0 o negativos imprime un error."
      ],
      "metadata": {
        "id": "XQ4HVPb4KWVJ"
      }
    }
  ]
}