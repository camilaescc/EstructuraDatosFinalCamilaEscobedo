{
  "nbformat": 4,
  "nbformat_minor": 0,
  "metadata": {
    "colab": {
      "provenance": []
    },
    "kernelspec": {
      "name": "python3",
      "display_name": "Python 3"
    },
    "language_info": {
      "name": "python"
    }
  },
  "cells": [
    {
      "cell_type": "markdown",
      "source": [
        "Length of Last Word"
      ],
      "metadata": {
        "id": "n9JkiHPc8GAs"
      }
    },
    {
      "cell_type": "code",
      "execution_count": 5,
      "metadata": {
        "colab": {
          "base_uri": "https://localhost:8080/"
        },
        "id": "qQ6LF1S_8FbA",
        "outputId": "193b3fbb-c2bc-4946-f6fd-bda6a9c329aa"
      },
      "outputs": [
        {
          "output_type": "stream",
          "name": "stdout",
          "text": [
            "Escribe una frase: hola mundo\n",
            "La última palabra tiene 5 letras.\n"
          ]
        }
      ],
      "source": [
        "#solucion simple\n",
        "\n",
        "def length_of_last_word(s):\n",
        "    words = s.split()\n",
        "    lastW = words[-1]\n",
        "    return len(lastW)\n",
        "\n",
        "text = input(\"Escribe una frase: \")\n",
        "\n",
        "length = length_of_last_word(text)\n",
        "print(\"La última palabra tiene\", length, \"letras.\")\n"
      ]
    },
    {
      "cell_type": "markdown",
      "source": [
        "Complejidad Big O: O(n) n es el tamano del string que ingresemos.\n",
        "\n",
        "Definimos una funcion leght of last word que recibe un string, despues creamos un objeto words que se referira a las palabras que haya en la cadena, se usa s.split que divide por palabras el enunciado tomando en cuenta los espacios que usemos entre palabras.\n",
        "lastW toma la ultima palabra de la cadena usando el comando -1, despues calcula la cantidad de letras que tiene con len, y devuelve el resultado."
      ],
      "metadata": {
        "id": "NLQW_fci9IgY"
      }
    },
    {
      "cell_type": "code",
      "source": [
        "#solucion optimizada\n",
        "\n",
        "def length_of_last_word(s):\n",
        "    # Restricción de longitud\n",
        "    if not (1 <= len(s) <= 10000):\n",
        "        print(\"Error: El texto debe tener entre 1 y 10,000 caracteres.\")\n",
        "        return 0\n",
        "\n",
        "    # Eliminar espacios\n",
        "    words = s.strip().split()\n",
        "\n",
        "    # Restricción de al menos una palabra\n",
        "    if len(words) == 0:\n",
        "        print(\"Error: Debe haber al menos una palabra.\")\n",
        "        return 0\n",
        "\n",
        "    lastW = words[-1]\n",
        "    return len(lastW)\n",
        "\n",
        "text = input(\"Escribe una frase: \")\n",
        "length = length_of_last_word(text)\n",
        "if length > 0:\n",
        "    print(\"La última palabra tiene\", length, \"letras.\")\n"
      ],
      "metadata": {
        "colab": {
          "base_uri": "https://localhost:8080/"
        },
        "id": "KL1aWimF-NSH",
        "outputId": "5a3d6db6-751a-4e85-a1e1-786c74895faa"
      },
      "execution_count": 8,
      "outputs": [
        {
          "output_type": "stream",
          "name": "stdout",
          "text": [
            "Escribe una frase: Holi mundo soy cami\n",
            "La última palabra tiene 4 letras.\n"
          ]
        }
      ]
    },
    {
      "cell_type": "markdown",
      "source": [
        "Complejidad Big O: O(n) n es el tamano del string que ingresemos.\n",
        "\n",
        "Le agregamos unas restricciones a nuestro codigo simple, la primera limita al usario a ingresar una cadena de minimo 1 caracter y maximo 10,000, si no es asi imprime un error. Luego se le agrega s.strip para eliminar espacios que puedan existir en el principio o final del texto y asi no contamos letras extras que no estan ahi y seguimos usando s.split para usar los espacios entre palabras como divisores. La otra restriccion dice que debemos ingresar al menos una palabra, si no entonces imprime un error. Al final si la longitud de nuestro texto es mayor a cero entoncces nos da el resultado, si no no funcionara el codigo."
      ],
      "metadata": {
        "id": "cQasPwFF_bvJ"
      }
    }
  ]
}