{
  "nbformat": 4,
  "nbformat_minor": 0,
  "metadata": {
    "colab": {
      "provenance": []
    },
    "kernelspec": {
      "name": "python3",
      "display_name": "Python 3"
    },
    "language_info": {
      "name": "python"
    }
  },
  "cells": [
    {
      "cell_type": "markdown",
      "source": [
        "Climbing Stairs"
      ],
      "metadata": {
        "id": "0cb7PLVh9w6P"
      }
    },
    {
      "cell_type": "code",
      "execution_count": 3,
      "metadata": {
        "colab": {
          "base_uri": "https://localhost:8080/"
        },
        "id": "YRObm1jn9tMZ",
        "outputId": "a40967bf-b956-4ecb-b2ce-9d8f64554d90"
      },
      "outputs": [
        {
          "output_type": "stream",
          "name": "stdout",
          "text": [
            "Ingresa los escalones a subir: 4\n",
            "Puedes subir 4 escalones de 5 formas distintas.\n"
          ]
        }
      ],
      "source": [
        "#solucion simple\n",
        "\n",
        "def climblingStairs(n):\n",
        "    if n <= 2:\n",
        "        return n\n",
        "    return climblingStairs(n - 1) + climblingStairs(n - 2)\n",
        "\n",
        "def main():\n",
        "    n = int(input(\"Ingresa los escalones a subir: \" ))\n",
        "    if n <= 0:\n",
        "        print(\"Erros: Ingresa un número mayor que 0\")\n",
        "    else:\n",
        "        ways = climblingStairs(n)\n",
        "        print(f\"Puedes subir {n} escalones de {ways} formas distintas.\")\n",
        "\n",
        "main()\n"
      ]
    },
    {
      "cell_type": "markdown",
      "source": [
        "Complejidad Big O: O(n) n es que tan grande es el numero que ingresemos\n",
        "\n",
        "Primero hacemos una funcion climbingStairs que va a recibir un numero n, que sera el total de escalones que existiran. Luego abrimos un if y vemos si n es menor o igual a 2, ya que de ser asi si solo hay un escalon, entonces solo hay una forma de subirlo, y si hay solo dos, hay dos formas de subirlo. Esto es el caso base del programa. Y para el caso donde haya mas de dos escalones, para llegar al escalon n podemos subir n-1, o sea un escalon o n-2, que serian dos escalones. Entonces la cantidad de maneras que podemos alcanzar n seria la suma de ambos."
      ],
      "metadata": {
        "id": "yX2pNOn1-Xvo"
      }
    },
    {
      "cell_type": "code",
      "source": [
        "#solucion optimizada\n",
        "\n",
        "def climbStairs(n):\n",
        "    if n <= 2:\n",
        "        return n\n",
        "    return climbStairs(n - 1) + climbStairs(n - 2)\n",
        "\n",
        "def main():\n",
        "    n = int(input(\"Ingresa los escalones a subir: (el limite es de entre 1 y 45): \"))\n",
        "\n",
        "    if 1 <= n <= 45:\n",
        "        ways = climbStairs(n)\n",
        "        print(f\"Puedes subir {n} escalones de {ways} formas distintas.\")\n",
        "    else:\n",
        "        print(\"Error: Ingresa un número entre 1 y 45.\")\n",
        "\n",
        "main()\n"
      ],
      "metadata": {
        "colab": {
          "base_uri": "https://localhost:8080/"
        },
        "id": "JB2mowLkBInU",
        "outputId": "266be6de-6071-4e10-851d-178248e45010"
      },
      "execution_count": 6,
      "outputs": [
        {
          "output_type": "stream",
          "name": "stdout",
          "text": [
            "Ingresa los escalones a subir: (el limite es de entre 1 y 45): 45\n",
            "Puedes subir 45 escalones de 1836311903 formas distintas.\n"
          ]
        }
      ]
    },
    {
      "cell_type": "markdown",
      "source": [
        "Complejidad Big O: O(n) n es que tan grande es el numero que ingresemos\n",
        "\n",
        "Vamos a anadir una restriccion de cuantas escaleras se pueden subir, como limite serian 45 y asi el usuario no ingrese un numero tan grande. Abrimos un if que evalua que n este entre 1 y 45 y creamos un objeto ways, este llama a la funcion principal y le pasa nuestra n, si n no estuviera en el rango permitido se imprime un error."
      ],
      "metadata": {
        "id": "TZmvUJm-CVAE"
      }
    }
  ]
}